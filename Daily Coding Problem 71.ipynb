{
 "cells": [
  {
   "cell_type": "markdown",
   "id": "ab36b6d2",
   "metadata": {},
   "source": [
    "# Daily Coding Problem 71"
   ]
  },
  {
   "cell_type": "raw",
   "id": "8ae3be87",
   "metadata": {},
   "source": [
    "This problem was asked by Two Sigma.\n",
    "\n",
    "Using a function rand7() that returns an integer from 1 to 7 (inclusive) with uniform probability, implement a function rand5() that returns an integer from 1 to 5 (inclusive)."
   ]
  },
  {
   "cell_type": "markdown",
   "id": "514f28e2",
   "metadata": {},
   "source": [
    "# Solution\n",
    "\n",
    "This problem is simpler than going from rand5() to rand7(). We'll do something similar:\n",
    "\n",
    " - Roll rand7().\n",
    " - If the result is between 1 and 5, then return it.\n",
    " - If the result is 6 or 7, then reroll.\n",
    "\n",
    "Since the distribution of [1, 5] is uniform -- each has a 1/7 chance of being rolled, then our rand5() will be uniform.\n",
    "\n"
   ]
  },
  {
   "cell_type": "code",
   "execution_count": 1,
   "id": "3f444c53",
   "metadata": {},
   "outputs": [],
   "source": [
    "def rand5():\n",
    "    r = rand7()\n",
    "    if 1 <= r <= 5:\n",
    "        return r\n",
    "    return rand5()"
   ]
  },
  {
   "cell_type": "markdown",
   "id": "122a46a3",
   "metadata": {},
   "source": [
    "This could potentially take forever (although with a very low probability), if we keep on getting 6 or 7s.\n",
    "\n"
   ]
  },
  {
   "cell_type": "code",
   "execution_count": null,
   "id": "dda53faa",
   "metadata": {},
   "outputs": [],
   "source": []
  }
 ],
 "metadata": {
  "kernelspec": {
   "display_name": "Python 3 (ipykernel)",
   "language": "python",
   "name": "python3"
  },
  "language_info": {
   "codemirror_mode": {
    "name": "ipython",
    "version": 3
   },
   "file_extension": ".py",
   "mimetype": "text/x-python",
   "name": "python",
   "nbconvert_exporter": "python",
   "pygments_lexer": "ipython3",
   "version": "3.8.10"
  }
 },
 "nbformat": 4,
 "nbformat_minor": 5
}
